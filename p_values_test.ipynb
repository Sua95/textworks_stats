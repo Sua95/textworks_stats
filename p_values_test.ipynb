{
 "cells": [
  {
   "cell_type": "code",
   "execution_count": 1,
   "id": "c02cc38f",
   "metadata": {},
   "outputs": [
    {
     "name": "stdout",
     "output_type": "stream",
     "text": [
      "t-statistic: 3.145491638370515\n",
      "p-value: 0.005593359466785011\n",
      "The null hypothesis is rejected, and there is evidence that the new drug is more effective than the placebo.\n"
     ]
    }
   ],
   "source": [
    "import numpy as np\n",
    "from scipy import stats\n",
    "\n",
    "# Generate two sets of data: one with the results for patients who received the new drug, and one with results for patients who received a placebo\n",
    "drug_results = np.array([13, 14, 10, 9, 11, 12, 15, 16, 10, 11])\n",
    "placebo_results = np.array([8, 9, 11, 7, 10, 9, 7, 8, 12, 11])\n",
    "\n",
    "# Calculate the t-statistic and p-value using a two-sample t-test\n",
    "t_statistic, p_value = stats.ttest_ind(drug_results, placebo_results)\n",
    "\n",
    "# Print the t-statistic and p-value\n",
    "print(\"t-statistic:\", t_statistic)\n",
    "print(\"p-value:\", p_value)\n",
    "\n",
    "# Determine if the p-value is less than the significance level of 0.05\n",
    "if p_value < 0.05:\n",
    "    print(\"The null hypothesis is rejected, and there is evidence that the new drug is more effective than the placebo.\")\n",
    "else:\n",
    "    print(\"The null hypothesis cannot be rejected, and there is not enough evidence to conclude that the new drug is more effective than the placebo.\")"
   ]
  },
  {
   "cell_type": "code",
   "execution_count": null,
   "id": "1a32922f",
   "metadata": {},
   "outputs": [],
   "source": []
  }
 ],
 "metadata": {
  "kernelspec": {
   "display_name": "Python 3 (ipykernel)",
   "language": "python",
   "name": "python3"
  },
  "language_info": {
   "codemirror_mode": {
    "name": "ipython",
    "version": 3
   },
   "file_extension": ".py",
   "mimetype": "text/x-python",
   "name": "python",
   "nbconvert_exporter": "python",
   "pygments_lexer": "ipython3",
   "version": "3.9.13"
  }
 },
 "nbformat": 4,
 "nbformat_minor": 5
}
