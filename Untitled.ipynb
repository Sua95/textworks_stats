{
 "cells": [
  {
   "cell_type": "code",
   "execution_count": 12,
   "id": "06e22a42",
   "metadata": {},
   "outputs": [
    {
     "data": {
      "text/html": [
       "<div>\n",
       "<style scoped>\n",
       "    .dataframe tbody tr th:only-of-type {\n",
       "        vertical-align: middle;\n",
       "    }\n",
       "\n",
       "    .dataframe tbody tr th {\n",
       "        vertical-align: top;\n",
       "    }\n",
       "\n",
       "    .dataframe thead th {\n",
       "        text-align: right;\n",
       "    }\n",
       "</style>\n",
       "<table border=\"1\" class=\"dataframe\">\n",
       "  <thead>\n",
       "    <tr style=\"text-align: right;\">\n",
       "      <th></th>\n",
       "      <th>Date</th>\n",
       "      <th>Apple Stock Return(AAPL)</th>\n",
       "      <th>Alphabet Stock Return (GOOGL)</th>\n",
       "      <th>Bank of America Stock Return (BAC)</th>\n",
       "    </tr>\n",
       "  </thead>\n",
       "  <tbody>\n",
       "    <tr>\n",
       "      <th>0</th>\n",
       "      <td>1/4/2017</td>\n",
       "      <td>-0.11</td>\n",
       "      <td>-0.03</td>\n",
       "      <td>1.86</td>\n",
       "    </tr>\n",
       "    <tr>\n",
       "      <th>1</th>\n",
       "      <td>1/5/2017</td>\n",
       "      <td>0.51</td>\n",
       "      <td>0.65</td>\n",
       "      <td>-1.18</td>\n",
       "    </tr>\n",
       "    <tr>\n",
       "      <th>2</th>\n",
       "      <td>1/6/2017</td>\n",
       "      <td>1.11</td>\n",
       "      <td>1.50</td>\n",
       "      <td>0.00</td>\n",
       "    </tr>\n",
       "    <tr>\n",
       "      <th>3</th>\n",
       "      <td>1/9/2017</td>\n",
       "      <td>0.92</td>\n",
       "      <td>0.24</td>\n",
       "      <td>-0.57</td>\n",
       "    </tr>\n",
       "    <tr>\n",
       "      <th>4</th>\n",
       "      <td>1/10/2017</td>\n",
       "      <td>0.10</td>\n",
       "      <td>-0.14</td>\n",
       "      <td>1.73</td>\n",
       "    </tr>\n",
       "    <tr>\n",
       "      <th>...</th>\n",
       "      <td>...</td>\n",
       "      <td>...</td>\n",
       "      <td>...</td>\n",
       "      <td>...</td>\n",
       "    </tr>\n",
       "    <tr>\n",
       "      <th>98</th>\n",
       "      <td>5/25/2017</td>\n",
       "      <td>0.35</td>\n",
       "      <td>1.46</td>\n",
       "      <td>-0.47</td>\n",
       "    </tr>\n",
       "    <tr>\n",
       "      <th>99</th>\n",
       "      <td>5/26/2017</td>\n",
       "      <td>-0.17</td>\n",
       "      <td>0.14</td>\n",
       "      <td>-0.04</td>\n",
       "    </tr>\n",
       "    <tr>\n",
       "      <th>100</th>\n",
       "      <td>5/30/2017</td>\n",
       "      <td>0.04</td>\n",
       "      <td>0.29</td>\n",
       "      <td>-1.42</td>\n",
       "    </tr>\n",
       "    <tr>\n",
       "      <th>101</th>\n",
       "      <td>5/31/2017</td>\n",
       "      <td>-0.59</td>\n",
       "      <td>-0.91</td>\n",
       "      <td>-2.18</td>\n",
       "    </tr>\n",
       "    <tr>\n",
       "      <th>102</th>\n",
       "      <td>6/1/2017</td>\n",
       "      <td>0.27</td>\n",
       "      <td>0.12</td>\n",
       "      <td>0.98</td>\n",
       "    </tr>\n",
       "  </tbody>\n",
       "</table>\n",
       "<p>103 rows × 4 columns</p>\n",
       "</div>"
      ],
      "text/plain": [
       "          Date  Apple Stock Return(AAPL)  Alphabet Stock Return (GOOGL)  \\\n",
       "0     1/4/2017                     -0.11                          -0.03   \n",
       "1     1/5/2017                      0.51                           0.65   \n",
       "2     1/6/2017                      1.11                           1.50   \n",
       "3     1/9/2017                      0.92                           0.24   \n",
       "4    1/10/2017                      0.10                          -0.14   \n",
       "..         ...                       ...                            ...   \n",
       "98   5/25/2017                      0.35                           1.46   \n",
       "99   5/26/2017                     -0.17                           0.14   \n",
       "100  5/30/2017                      0.04                           0.29   \n",
       "101  5/31/2017                     -0.59                          -0.91   \n",
       "102   6/1/2017                      0.27                           0.12   \n",
       "\n",
       "     Bank of America Stock Return (BAC)  \n",
       "0                                  1.86  \n",
       "1                                 -1.18  \n",
       "2                                  0.00  \n",
       "3                                 -0.57  \n",
       "4                                  1.73  \n",
       "..                                  ...  \n",
       "98                                -0.47  \n",
       "99                                -0.04  \n",
       "100                               -1.42  \n",
       "101                               -2.18  \n",
       "102                                0.98  \n",
       "\n",
       "[103 rows x 4 columns]"
      ]
     },
     "execution_count": 12,
     "metadata": {},
     "output_type": "execute_result"
    }
   ],
   "source": [
    "import pandas as pd\n",
    "\n",
    "df = pd.read_csv(\"Stock Returns.csv\",skiprows=3, header=0)\n",
    "df = df.drop(columns = [\"Unnamed: 0\"])\n",
    "\n",
    "df['Apple Stock Return(AAPL)'] = df['Apple Stock Return(AAPL)'].str.replace('%', '')\n",
    "df['Apple Stock Return(AAPL)'] = df['Apple Stock Return(AAPL)'].astype(float)\n",
    "\n",
    "df['Alphabet Stock Return (GOOGL)'] = df['Alphabet Stock Return (GOOGL)'].str.replace('%', '')\n",
    "df['Alphabet Stock Return (GOOGL)'] = df['Alphabet Stock Return (GOOGL)'].astype(float)\n",
    "\n",
    "df['Bank of America Stock Return (BAC)'] = df['Bank of America Stock Return (BAC)'].str.replace('%', '')\n",
    "df['Bank of America Stock Return (BAC)'] = df['Bank of America Stock Return (BAC)'].astype(float)\n",
    "\n",
    "df"
   ]
  },
  {
   "cell_type": "code",
   "execution_count": 14,
   "id": "184adc45",
   "metadata": {},
   "outputs": [
    {
     "name": "stdout",
     "output_type": "stream",
     "text": [
      "0.273398058252427\n",
      "0.08\n",
      "0   -0.59\n",
      "1   -0.23\n",
      "2   -0.12\n",
      "3    0.04\n",
      "Name: Apple Stock Return(AAPL), dtype: float64\n"
     ]
    }
   ],
   "source": [
    "print(df[\"Apple Stock Return(AAPL)\"].mean())\n",
    "print(df[\"Apple Stock Return(AAPL)\"].median())\n",
    "print(df[\"Apple Stock Return(AAPL)\"].mode())"
   ]
  },
  {
   "cell_type": "code",
   "execution_count": 15,
   "id": "4470d2d4",
   "metadata": {
    "scrolled": true
   },
   "outputs": [
    {
     "name": "stdout",
     "output_type": "stream",
     "text": [
      "0.19932038834951465\n",
      "0.19\n",
      "0   -0.04\n",
      "1    0.19\n",
      "2    0.29\n",
      "3    0.46\n",
      "Name: Alphabet Stock Return (GOOGL), dtype: float64\n"
     ]
    }
   ],
   "source": [
    "print(df[\"Alphabet Stock Return (GOOGL)\"].mean())\n",
    "print(df[\"Alphabet Stock Return (GOOGL)\"].median())\n",
    "print(df[\"Alphabet Stock Return (GOOGL)\"].mode())"
   ]
  },
  {
   "cell_type": "code",
   "execution_count": 16,
   "id": "bf38fde4",
   "metadata": {},
   "outputs": [
    {
     "name": "stdout",
     "output_type": "stream",
     "text": [
      "0.016019417475728177\n",
      "-0.04\n",
      "0   -0.04\n",
      "1    0.00\n",
      "Name: Bank of America Stock Return (BAC), dtype: float64\n"
     ]
    }
   ],
   "source": [
    "print(df[\"Bank of America Stock Return (BAC)\"].mean())\n",
    "print(df[\"Bank of America Stock Return (BAC)\"].median())\n",
    "print(df[\"Bank of America Stock Return (BAC)\"].mode())"
   ]
  },
  {
   "cell_type": "code",
   "execution_count": null,
   "id": "cb2d7d9f",
   "metadata": {},
   "outputs": [],
   "source": []
  }
 ],
 "metadata": {
  "kernelspec": {
   "display_name": "Python 3 (ipykernel)",
   "language": "python",
   "name": "python3"
  },
  "language_info": {
   "codemirror_mode": {
    "name": "ipython",
    "version": 3
   },
   "file_extension": ".py",
   "mimetype": "text/x-python",
   "name": "python",
   "nbconvert_exporter": "python",
   "pygments_lexer": "ipython3",
   "version": "3.9.13"
  }
 },
 "nbformat": 4,
 "nbformat_minor": 5
}
