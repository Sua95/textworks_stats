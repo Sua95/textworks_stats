{
 "cells": [
  {
   "cell_type": "code",
   "execution_count": 1,
   "id": "426d5716",
   "metadata": {},
   "outputs": [
    {
     "data": {
      "text/plain": [
       "'Recipe #\\tX\\t\\tRecipe #\\tX\\t\\tRecipe #\\tX\\t\\tRecipe #\\tX\\n1\\t1\\t\\t16\\t2\\t\\t31\\t3\\t\\t46\\t2\\n2\\t5\\t\\t17\\t2\\t\\t32\\t4\\t\\t47\\t2\\n3\\t2\\t\\t18\\t4\\t\\t33\\t5\\t\\t48\\t11\\n4\\t5\\t\\t19\\t6\\t\\t34\\t6\\t\\t49\\t5\\n5\\t6\\t\\t20\\t1\\t\\t35\\t6\\t\\t50\\t5\\n6\\t1\\t\\t21\\t6\\t\\t36\\t1\\t\\t51\\t4\\n7\\t2\\t\\t22\\t5\\t\\t37\\t1\\t\\t52\\t6\\n8\\t6\\t\\t23\\t2\\t\\t38\\t2\\t\\t53\\t5\\n9\\t5\\t\\t24\\t5\\t\\t39\\t1\\t\\t54\\t1\\n10\\t2\\t\\t25\\t1\\t\\t40\\t6\\t\\t55\\t1\\n11\\t5\\t\\t26\\t6\\t\\t41\\t1\\t\\t56\\t2\\n12\\t1\\t\\t27\\t4\\t\\t42\\t6\\t\\t57\\t4\\n13\\t1\\t\\t28\\t1\\t\\t43\\t2\\t\\t58\\t3\\n14\\t3\\t\\t29\\t6\\t\\t44\\t6\\t\\t59\\t6\\n15\\t2\\t\\t30\\t2\\t\\t45\\t2\\t\\t60\\t5'"
      ]
     },
     "execution_count": 1,
     "metadata": {},
     "output_type": "execute_result"
    }
   ],
   "source": [
    "table = {1:1, 16:2, 31:3, 46:2, 2:5, 17:2, 32:4, 47:2, 3:2, 18:4, 33:5, 48:11, 4:5, 19:6, 34:6, 49:5 5:6, 20:1, 35:6, 50:5\n",
    "6:1, 21:6, 36:1, 51:4, 7:2, 22:5, 37:1, 52:6, 8:6, 23:2, 38:2, 53:5,\n",
    "9:5, 24:5\t\t39\t1\t\t54\t1\n",
    "10:2\t\t25\t1\t\t40\t6\t\t55\t1\n",
    "11:5\t\t26\t6\t\t41\t1\t\t56\t2\n",
    "12:1\t\t27\t4\t\t42\t6\t\t57\t4\n",
    "13:1\t\t28\t1\t\t43\t2\t\t58\t3\n",
    "14:3\t\t29\t6\t\t44\t6\t\t59\t6\n",
    "15:2\t\t30\t2\t\t45\t2\t\t60\t5}\n",
    "\n",
    "table"
   ]
  },
  {
   "cell_type": "code",
   "execution_count": 3,
   "id": "b9b49043",
   "metadata": {},
   "outputs": [
    {
     "data": {
      "text/plain": [
       "'1\\t1\\t\\t16\\t2\\t\\t31\\t3\\t\\t46\\t2\\n2\\t5\\t\\t17\\t2\\t\\t32\\t4\\t\\t47\\t2\\n3\\t2\\t\\t18\\t4\\t\\t33\\t5\\t\\t48\\t11\\n4\\t5\\t\\t19\\t6\\t\\t34\\t6\\t\\t49\\t5\\n5\\t6\\t\\t20\\t1\\t\\t35\\t6\\t\\t50\\t5\\n6\\t1\\t\\t21\\t6\\t\\t36\\t1\\t\\t51\\t4\\n7\\t2\\t\\t22\\t5\\t\\t37\\t1\\t\\t52\\t6\\n8\\t6\\t\\t23\\t2\\t\\t38\\t2\\t\\t53\\t5\\n9\\t5\\t\\t24\\t5\\t\\t39\\t1\\t\\t54\\t1\\n10\\t2\\t\\t25\\t1\\t\\t40\\t6\\t\\t55\\t1\\n11\\t5\\t\\t26\\t6\\t\\t41\\t1\\t\\t56\\t2\\n12\\t1\\t\\t27\\t4\\t\\t42\\t6\\t\\t57\\t4\\n13\\t1\\t\\t28\\t1\\t\\t43\\t2\\t\\t58\\t3\\n14\\t3\\t\\t29\\t6\\t\\t44\\t6\\t\\t59\\t6\\n15\\t2\\t\\t30\\t2\\t\\t45\\t2\\t\\t60\\t5'"
      ]
     },
     "execution_count": 3,
     "metadata": {},
     "output_type": "execute_result"
    }
   ],
   "source": [
    "#table = table.str.replace(\"\")\n",
    "table_str = \"\"\"1\t1\t\t16\t2\t\t31\t3\t\t46\t2\n",
    "2\t5\t\t17\t2\t\t32\t4\t\t47\t2\n",
    "3\t2\t\t18\t4\t\t33\t5\t\t48\t11\n",
    "4\t5\t\t19\t6\t\t34\t6\t\t49\t5\n",
    "5\t6\t\t20\t1\t\t35\t6\t\t50\t5\n",
    "6\t1\t\t21\t6\t\t36\t1\t\t51\t4\n",
    "7\t2\t\t22\t5\t\t37\t1\t\t52\t6\n",
    "8\t6\t\t23\t2\t\t38\t2\t\t53\t5\n",
    "9\t5\t\t24\t5\t\t39\t1\t\t54\t1\n",
    "10\t2\t\t25\t1\t\t40\t6\t\t55\t1\n",
    "11\t5\t\t26\t6\t\t41\t1\t\t56\t2\n",
    "12\t1\t\t27\t4\t\t42\t6\t\t57\t4\n",
    "13\t1\t\t28\t1\t\t43\t2\t\t58\t3\n",
    "14\t3\t\t29\t6\t\t44\t6\t\t59\t6\n",
    "15\t2\t\t30\t2\t\t45\t2\t\t60\t5\"\"\"\n",
    "\n",
    "\n",
    "table_str\n"
   ]
  },
  {
   "cell_type": "code",
   "execution_count": 7,
   "id": "4d72f0e5",
   "metadata": {},
   "outputs": [
    {
     "data": {
      "text/plain": [
       "'1\\t1\\t\\t16\\t2\\t\\t31\\t3\\t\\t46\\t2\\n2\\t5\\t\\t17\\t2\\t\\t32\\t4\\t\\t47\\t2\\n3\\t2\\t\\t18\\t4\\t\\t33\\t5\\t\\t48\\t11\\n4\\t5\\t\\t19\\t6\\t\\t34\\t6\\t\\t49\\t5\\n5\\t6\\t\\t20\\t1\\t\\t35\\t6\\t\\t50\\t5\\n6\\t1\\t\\t21\\t6\\t\\t36\\t1\\t\\t51\\t4\\n7\\t2\\t\\t22\\t5\\t\\t37\\t1\\t\\t52\\t6\\n8\\t6\\t\\t23\\t2\\t\\t38\\t2\\t\\t53\\t5\\n9\\t5\\t\\t24\\t5\\t\\t39\\t1\\t\\t54\\t1\\n10\\t2\\t\\t25\\t1\\t\\t40\\t6\\t\\t55\\t1\\n11\\t5\\t\\t26\\t6\\t\\t41\\t1\\t\\t56\\t2\\n12\\t1\\t\\t27\\t4\\t\\t42\\t6\\t\\t57\\t4\\n13\\t1\\t\\t28\\t1\\t\\t43\\t2\\t\\t58\\t3\\n14\\t3\\t\\t29\\t6\\t\\t44\\t6\\t\\t59\\t6\\n15\\t2\\t\\t30\\t2\\t\\t45\\t2\\t\\t60\\t5'"
      ]
     },
     "execution_count": 7,
     "metadata": {},
     "output_type": "execute_result"
    }
   ],
   "source": [
    "table_str = table_str.replace(\"t1\",\":\")\n",
    "table_str"
   ]
  },
  {
   "cell_type": "code",
   "execution_count": null,
   "id": "2abdd763",
   "metadata": {},
   "outputs": [],
   "source": []
  }
 ],
 "metadata": {
  "kernelspec": {
   "display_name": "Python 3 (ipykernel)",
   "language": "python",
   "name": "python3"
  },
  "language_info": {
   "codemirror_mode": {
    "name": "ipython",
    "version": 3
   },
   "file_extension": ".py",
   "mimetype": "text/x-python",
   "name": "python",
   "nbconvert_exporter": "python",
   "pygments_lexer": "ipython3",
   "version": "3.9.13"
  }
 },
 "nbformat": 4,
 "nbformat_minor": 5
}
