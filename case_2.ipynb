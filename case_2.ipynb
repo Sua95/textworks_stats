{
 "cells": [
  {
   "cell_type": "code",
   "execution_count": 2,
   "id": "06e22a42",
   "metadata": {},
   "outputs": [
    {
     "data": {
      "text/html": [
       "<div>\n",
       "<style scoped>\n",
       "    .dataframe tbody tr th:only-of-type {\n",
       "        vertical-align: middle;\n",
       "    }\n",
       "\n",
       "    .dataframe tbody tr th {\n",
       "        vertical-align: top;\n",
       "    }\n",
       "\n",
       "    .dataframe thead th {\n",
       "        text-align: right;\n",
       "    }\n",
       "</style>\n",
       "<table border=\"1\" class=\"dataframe\">\n",
       "  <thead>\n",
       "    <tr style=\"text-align: right;\">\n",
       "      <th></th>\n",
       "      <th>Date</th>\n",
       "      <th>Apple Stock Return(AAPL)</th>\n",
       "      <th>Alphabet Stock Return (GOOGL)</th>\n",
       "      <th>Bank of America Stock Return (BAC)</th>\n",
       "    </tr>\n",
       "  </thead>\n",
       "  <tbody>\n",
       "    <tr>\n",
       "      <th>0</th>\n",
       "      <td>1/4/2017</td>\n",
       "      <td>-0.11</td>\n",
       "      <td>-0.03</td>\n",
       "      <td>1.86</td>\n",
       "    </tr>\n",
       "    <tr>\n",
       "      <th>1</th>\n",
       "      <td>1/5/2017</td>\n",
       "      <td>0.51</td>\n",
       "      <td>0.65</td>\n",
       "      <td>-1.18</td>\n",
       "    </tr>\n",
       "    <tr>\n",
       "      <th>2</th>\n",
       "      <td>1/6/2017</td>\n",
       "      <td>1.11</td>\n",
       "      <td>1.50</td>\n",
       "      <td>0.00</td>\n",
       "    </tr>\n",
       "    <tr>\n",
       "      <th>3</th>\n",
       "      <td>1/9/2017</td>\n",
       "      <td>0.92</td>\n",
       "      <td>0.24</td>\n",
       "      <td>-0.57</td>\n",
       "    </tr>\n",
       "    <tr>\n",
       "      <th>4</th>\n",
       "      <td>1/10/2017</td>\n",
       "      <td>0.10</td>\n",
       "      <td>-0.14</td>\n",
       "      <td>1.73</td>\n",
       "    </tr>\n",
       "    <tr>\n",
       "      <th>...</th>\n",
       "      <td>...</td>\n",
       "      <td>...</td>\n",
       "      <td>...</td>\n",
       "      <td>...</td>\n",
       "    </tr>\n",
       "    <tr>\n",
       "      <th>98</th>\n",
       "      <td>5/25/2017</td>\n",
       "      <td>0.35</td>\n",
       "      <td>1.46</td>\n",
       "      <td>-0.47</td>\n",
       "    </tr>\n",
       "    <tr>\n",
       "      <th>99</th>\n",
       "      <td>5/26/2017</td>\n",
       "      <td>-0.17</td>\n",
       "      <td>0.14</td>\n",
       "      <td>-0.04</td>\n",
       "    </tr>\n",
       "    <tr>\n",
       "      <th>100</th>\n",
       "      <td>5/30/2017</td>\n",
       "      <td>0.04</td>\n",
       "      <td>0.29</td>\n",
       "      <td>-1.42</td>\n",
       "    </tr>\n",
       "    <tr>\n",
       "      <th>101</th>\n",
       "      <td>5/31/2017</td>\n",
       "      <td>-0.59</td>\n",
       "      <td>-0.91</td>\n",
       "      <td>-2.18</td>\n",
       "    </tr>\n",
       "    <tr>\n",
       "      <th>102</th>\n",
       "      <td>6/1/2017</td>\n",
       "      <td>0.27</td>\n",
       "      <td>0.12</td>\n",
       "      <td>0.98</td>\n",
       "    </tr>\n",
       "  </tbody>\n",
       "</table>\n",
       "<p>103 rows × 4 columns</p>\n",
       "</div>"
      ],
      "text/plain": [
       "          Date  Apple Stock Return(AAPL)  Alphabet Stock Return (GOOGL)  \\\n",
       "0     1/4/2017                     -0.11                          -0.03   \n",
       "1     1/5/2017                      0.51                           0.65   \n",
       "2     1/6/2017                      1.11                           1.50   \n",
       "3     1/9/2017                      0.92                           0.24   \n",
       "4    1/10/2017                      0.10                          -0.14   \n",
       "..         ...                       ...                            ...   \n",
       "98   5/25/2017                      0.35                           1.46   \n",
       "99   5/26/2017                     -0.17                           0.14   \n",
       "100  5/30/2017                      0.04                           0.29   \n",
       "101  5/31/2017                     -0.59                          -0.91   \n",
       "102   6/1/2017                      0.27                           0.12   \n",
       "\n",
       "     Bank of America Stock Return (BAC)  \n",
       "0                                  1.86  \n",
       "1                                 -1.18  \n",
       "2                                  0.00  \n",
       "3                                 -0.57  \n",
       "4                                  1.73  \n",
       "..                                  ...  \n",
       "98                                -0.47  \n",
       "99                                -0.04  \n",
       "100                               -1.42  \n",
       "101                               -2.18  \n",
       "102                                0.98  \n",
       "\n",
       "[103 rows x 4 columns]"
      ]
     },
     "execution_count": 2,
     "metadata": {},
     "output_type": "execute_result"
    }
   ],
   "source": [
    "import pandas as pd\n",
    "import matplotlib.pyplot as plt\n",
    "import statistics as sts\n",
    "import numpy as np\n",
    "from scipy.stats import t\n",
    "\n",
    "df = pd.read_csv(\"Stock Returns.csv\",skiprows=3, header=0)\n",
    "df = df.drop(columns = [\"Unnamed: 0\"])\n",
    "\n",
    "df['Apple Stock Return(AAPL)'] = df['Apple Stock Return(AAPL)'].str.replace('%', '')\n",
    "df['Apple Stock Return(AAPL)'] = df['Apple Stock Return(AAPL)'].astype(float)\n",
    "\n",
    "df['Alphabet Stock Return (GOOGL)'] = df['Alphabet Stock Return (GOOGL)'].str.replace('%', '')\n",
    "df['Alphabet Stock Return (GOOGL)'] = df['Alphabet Stock Return (GOOGL)'].astype(float)\n",
    "\n",
    "df['Bank of America Stock Return (BAC)'] = df['Bank of America Stock Return (BAC)'].str.replace('%', '')\n",
    "df['Bank of America Stock Return (BAC)'] = df['Bank of America Stock Return (BAC)'].astype(float)\n",
    "\n",
    "df"
   ]
  },
  {
   "cell_type": "code",
   "execution_count": 3,
   "id": "184adc45",
   "metadata": {},
   "outputs": [
    {
     "name": "stdout",
     "output_type": "stream",
     "text": [
      "0.273398058252427\n",
      "0.08\n",
      "0   -0.59\n",
      "1   -0.23\n",
      "2   -0.12\n",
      "3    0.04\n",
      "Name: Apple Stock Return(AAPL), dtype: float64\n"
     ]
    }
   ],
   "source": [
    "print(df[\"Apple Stock Return(AAPL)\"].mean())\n",
    "print(df[\"Apple Stock Return(AAPL)\"].median())\n",
    "print(df[\"Apple Stock Return(AAPL)\"].mode())"
   ]
  },
  {
   "cell_type": "code",
   "execution_count": 4,
   "id": "4470d2d4",
   "metadata": {
    "scrolled": true
   },
   "outputs": [
    {
     "name": "stdout",
     "output_type": "stream",
     "text": [
      "0.19932038834951465\n",
      "0.19\n",
      "0   -0.04\n",
      "1    0.19\n",
      "2    0.29\n",
      "3    0.46\n",
      "Name: Alphabet Stock Return (GOOGL), dtype: float64\n"
     ]
    }
   ],
   "source": [
    "print(df[\"Alphabet Stock Return (GOOGL)\"].mean())\n",
    "print(df[\"Alphabet Stock Return (GOOGL)\"].median())\n",
    "print(df[\"Alphabet Stock Return (GOOGL)\"].mode())"
   ]
  },
  {
   "cell_type": "code",
   "execution_count": 5,
   "id": "bf38fde4",
   "metadata": {},
   "outputs": [
    {
     "name": "stdout",
     "output_type": "stream",
     "text": [
      "0.016019417475728177\n",
      "-0.04\n",
      "0   -0.04\n",
      "1    0.00\n",
      "Name: Bank of America Stock Return (BAC), dtype: float64\n"
     ]
    }
   ],
   "source": [
    "print(df[\"Bank of America Stock Return (BAC)\"].mean())\n",
    "print(df[\"Bank of America Stock Return (BAC)\"].median())\n",
    "print(df[\"Bank of America Stock Return (BAC)\"].mode())"
   ]
  },
  {
   "cell_type": "code",
   "execution_count": 6,
   "id": "cb2d7d9f",
   "metadata": {},
   "outputs": [
    {
     "data": {
      "image/png": "[encoded data removed]",
      "text/plain": [
       "<Figure size 640x480 with 1 Axes>"
      ]
     },
     "metadata": {},
     "output_type": "display_data"
    }
   ],
   "source": [
    "plt.hist(df['Apple Stock Return(AAPL)'], bins=10)\n",
    "plt.xlabel('Stock Return')\n",
    "plt.ylabel('Frequency')\n",
    "plt.title('Apple')\n",
    "plt.show()"
   ]
  },
  {
   "cell_type": "code",
   "execution_count": 7,
   "id": "986fbff6",
   "metadata": {},
   "outputs": [
    {
     "data": {
      "image/png": "[encoded data removed]",
      "text/plain": [
       "<Figure size 640x480 with 1 Axes>"
      ]
     },
     "metadata": {},
     "output_type": "display_data"
    }
   ],
   "source": [
    "plt.hist(df['Alphabet Stock Return (GOOGL)'], bins=10)\n",
    "plt.xlabel('Stock Return')\n",
    "plt.ylabel('Frequency')\n",
    "plt.title('Google')\n",
    "plt.show()"
   ]
  },
  {
   "cell_type": "code",
   "execution_count": 8,
   "id": "78ee7b8a",
   "metadata": {},
   "outputs": [
    {
     "data": {
      "image/png": "[encoded data removed]",
      "text/plain": [
       "<Figure size 640x480 with 1 Axes>"
      ]
     },
     "metadata": {},
     "output_type": "display_data"
    }
   ],
   "source": [
    "plt.hist(df['Bank of America Stock Return (BAC)'], bins=10)\n",
    "plt.xlabel('Stock Return')\n",
    "plt.ylabel('Frequency')\n",
    "plt.title('Bank Of America')\n",
    "plt.show()"
   ]
  },
  {
   "cell_type": "markdown",
   "id": "9422e613",
   "metadata": {},
   "source": [
    "Skewness, Variance and Standard Deviation"
   ]
  },
  {
   "cell_type": "code",
   "execution_count": 9,
   "id": "c875ce86",
   "metadata": {},
   "outputs": [
    {
     "name": "stdout",
     "output_type": "stream",
     "text": [
      "Apple\n",
      "2.007847835648069\n",
      "0.9356461831334477\n",
      "0.9672880559241118\n"
     ]
    }
   ],
   "source": [
    "print(\"Apple\")\n",
    "print(df['Apple Stock Return(AAPL)'].skew())\n",
    "print(df['Apple Stock Return(AAPL)'].var())\n",
    "print(df['Apple Stock Return(AAPL)'].std())"
   ]
  },
  {
   "cell_type": "code",
   "execution_count": 10,
   "id": "a94c3813",
   "metadata": {},
   "outputs": [
    {
     "name": "stdout",
     "output_type": "stream",
     "text": [
      "Google\n",
      "0.23410031279956156\n",
      "0.6878632590900438\n",
      "0.8293752221341337\n"
     ]
    }
   ],
   "source": [
    "print(\"Google\")\n",
    "print(df['Alphabet Stock Return (GOOGL)'].skew())\n",
    "print(df['Alphabet Stock Return (GOOGL)'].var())\n",
    "print(df['Alphabet Stock Return (GOOGL)'].std())"
   ]
  },
  {
   "cell_type": "code",
   "execution_count": 11,
   "id": "5f8e4824",
   "metadata": {},
   "outputs": [
    {
     "name": "stdout",
     "output_type": "stream",
     "text": [
      "Bank of America\n",
      "-0.8318961667939689\n",
      "2.284030078050638\n",
      "1.5113007900648494\n"
     ]
    }
   ],
   "source": [
    "print(\"Bank of America\")\n",
    "print(df['Bank of America Stock Return (BAC)'].skew())\n",
    "print(df['Bank of America Stock Return (BAC)'].var())\n",
    "print(df['Bank of America Stock Return (BAC)'].std())"
   ]
  },
  {
   "cell_type": "markdown",
   "id": "20b5148d",
   "metadata": {},
   "source": [
    "Coefficient of variation"
   ]
  },
  {
   "cell_type": "code",
   "execution_count": 12,
   "id": "0921ecff",
   "metadata": {},
   "outputs": [
    {
     "name": "stdout",
     "output_type": "stream",
     "text": [
      "353.8020943188337\n",
      "416.1015483673441\n",
      "9434.180689495715\n"
     ]
    }
   ],
   "source": [
    "print(df['Apple Stock Return(AAPL)'].std() / df['Apple Stock Return(AAPL)'].mean() * 100)\n",
    "print(df['Alphabet Stock Return (GOOGL)'].std() / df['Alphabet Stock Return (GOOGL)'].mean() * 100)\n",
    "print(df['Bank of America Stock Return (BAC)'].std() / df['Bank of America Stock Return (BAC)'].mean() * 100)"
   ]
  },
  {
   "cell_type": "markdown",
   "id": "7394fe67",
   "metadata": {},
   "source": [
    "Covariance and Correlation"
   ]
  },
  {
   "cell_type": "code",
   "execution_count": 13,
   "id": "8b19f514",
   "metadata": {},
   "outputs": [
    {
     "name": "stdout",
     "output_type": "stream",
     "text": [
      "AAPL vs GOOGL\n",
      "0.21622586141252617\n",
      "0.26952605476485203\n",
      "AAPL vs BAC\n",
      "0.6237136588616029\n",
      "0.4266566512670834\n",
      "GOOGL vs BAC\n",
      "0.5643090329335617\n",
      "0.45020989523305216\n"
     ]
    }
   ],
   "source": [
    "print(\"AAPL vs GOOGL\")\n",
    "print(df['Apple Stock Return(AAPL)'].cov(df['Alphabet Stock Return (GOOGL)']))\n",
    "print(df['Apple Stock Return(AAPL)'].corr(df['Alphabet Stock Return (GOOGL)']))\n",
    "print(\"AAPL vs BAC\")\n",
    "print(df['Apple Stock Return(AAPL)'].cov(df['Bank of America Stock Return (BAC)']))\n",
    "print(df['Apple Stock Return(AAPL)'].corr(df['Bank of America Stock Return (BAC)']))\n",
    "print(\"GOOGL vs BAC\")\n",
    "print(df['Alphabet Stock Return (GOOGL)'].cov(df['Bank of America Stock Return (BAC)']))\n",
    "print(df['Alphabet Stock Return (GOOGL)'].corr(df['Bank of America Stock Return (BAC)']))"
   ]
  },
  {
   "cell_type": "code",
   "execution_count": 15,
   "id": "aadb74aa",
   "metadata": {},
   "outputs": [
    {
     "ename": "KeyError",
     "evalue": "''",
     "output_type": "error",
     "traceback": [
      "\u001b[1;31m---------------------------------------------------------------------------\u001b[0m",
      "\u001b[1;31mKeyError\u001b[0m                                  Traceback (most recent call last)",
      "\u001b[1;32m~\\anaconda3\\lib\\site-packages\\pandas\\core\\indexes\\base.py\u001b[0m in \u001b[0;36mget_loc\u001b[1;34m(self, key, method, tolerance)\u001b[0m\n\u001b[0;32m   3628\u001b[0m             \u001b[1;32mtry\u001b[0m\u001b[1;33m:\u001b[0m\u001b[1;33m\u001b[0m\u001b[1;33m\u001b[0m\u001b[0m\n\u001b[1;32m-> 3629\u001b[1;33m                 \u001b[1;32mreturn\u001b[0m \u001b[0mself\u001b[0m\u001b[1;33m.\u001b[0m\u001b[0m_engine\u001b[0m\u001b[1;33m.\u001b[0m\u001b[0mget_loc\u001b[0m\u001b[1;33m(\u001b[0m\u001b[0mcasted_key\u001b[0m\u001b[1;33m)\u001b[0m\u001b[1;33m\u001b[0m\u001b[1;33m\u001b[0m\u001b[0m\n\u001b[0m\u001b[0;32m   3630\u001b[0m             \u001b[1;32mexcept\u001b[0m \u001b[0mKeyError\u001b[0m \u001b[1;32mas\u001b[0m \u001b[0merr\u001b[0m\u001b[1;33m:\u001b[0m\u001b[1;33m\u001b[0m\u001b[1;33m\u001b[0m\u001b[0m\n",
      "\u001b[1;32m~\\anaconda3\\lib\\site-packages\\pandas\\_libs\\index.pyx\u001b[0m in \u001b[0;36mpandas._libs.index.IndexEngine.get_loc\u001b[1;34m()\u001b[0m\n",
      "\u001b[1;32m~\\anaconda3\\lib\\site-packages\\pandas\\_libs\\index.pyx\u001b[0m in \u001b[0;36mpandas._libs.index.IndexEngine.get_loc\u001b[1;34m()\u001b[0m\n",
      "\u001b[1;32mpandas\\_libs\\hashtable_class_helper.pxi\u001b[0m in \u001b[0;36mpandas._libs.hashtable.PyObjectHashTable.get_item\u001b[1;34m()\u001b[0m\n",
      "\u001b[1;32mpandas\\_libs\\hashtable_class_helper.pxi\u001b[0m in \u001b[0;36mpandas._libs.hashtable.PyObjectHashTable.get_item\u001b[1;34m()\u001b[0m\n",
      "\u001b[1;31mKeyError\u001b[0m: ''",
      "\nThe above exception was the direct cause of the following exception:\n",
      "\u001b[1;31mKeyError\u001b[0m                                  Traceback (most recent call last)",
      "\u001b[1;32m~\\AppData\\Local\\Temp\\ipykernel_14696\\1007382428.py\u001b[0m in \u001b[0;36m<module>\u001b[1;34m\u001b[0m\n\u001b[0;32m     14\u001b[0m     \u001b[0mprint\u001b[0m\u001b[1;33m(\u001b[0m\u001b[1;34mf\"95% Confidence interval: [{ci_lower:.3f}, {ci_upper:.3f}]\"\u001b[0m\u001b[1;33m)\u001b[0m\u001b[1;33m\u001b[0m\u001b[1;33m\u001b[0m\u001b[0m\n\u001b[0;32m     15\u001b[0m \u001b[1;33m\u001b[0m\u001b[0m\n\u001b[1;32m---> 16\u001b[1;33m \u001b[0mcalculate_stats\u001b[0m\u001b[1;33m(\u001b[0m\u001b[0mdf\u001b[0m\u001b[1;33m,\u001b[0m \u001b[1;34m\"\"\u001b[0m\u001b[1;33m)\u001b[0m\u001b[1;33m\u001b[0m\u001b[1;33m\u001b[0m\u001b[0m\n\u001b[0m",
      "\u001b[1;32m~\\AppData\\Local\\Temp\\ipykernel_14696\\1007382428.py\u001b[0m in \u001b[0;36mcalculate_stats\u001b[1;34m(df, column)\u001b[0m\n\u001b[0;32m      1\u001b[0m \u001b[1;32mdef\u001b[0m \u001b[0mcalculate_stats\u001b[0m\u001b[1;33m(\u001b[0m\u001b[0mdf\u001b[0m\u001b[1;33m,\u001b[0m \u001b[0mcolumn\u001b[0m\u001b[1;33m)\u001b[0m\u001b[1;33m:\u001b[0m\u001b[1;33m\u001b[0m\u001b[1;33m\u001b[0m\u001b[0m\n\u001b[1;32m----> 2\u001b[1;33m     \u001b[0mdata\u001b[0m \u001b[1;33m=\u001b[0m \u001b[0mdf\u001b[0m\u001b[1;33m[\u001b[0m\u001b[0mcolumn\u001b[0m\u001b[1;33m]\u001b[0m\u001b[1;33m.\u001b[0m\u001b[0mdropna\u001b[0m\u001b[1;33m(\u001b[0m\u001b[1;33m)\u001b[0m \u001b[1;31m# remove any missing values\u001b[0m\u001b[1;33m\u001b[0m\u001b[1;33m\u001b[0m\u001b[0m\n\u001b[0m\u001b[0;32m      3\u001b[0m     \u001b[0mn\u001b[0m \u001b[1;33m=\u001b[0m \u001b[0mlen\u001b[0m\u001b[1;33m(\u001b[0m\u001b[0mdata\u001b[0m\u001b[1;33m)\u001b[0m\u001b[1;33m\u001b[0m\u001b[1;33m\u001b[0m\u001b[0m\n\u001b[0;32m      4\u001b[0m     \u001b[0mmean\u001b[0m \u001b[1;33m=\u001b[0m \u001b[0mdata\u001b[0m\u001b[1;33m.\u001b[0m\u001b[0mmean\u001b[0m\u001b[1;33m(\u001b[0m\u001b[1;33m)\u001b[0m\u001b[1;33m\u001b[0m\u001b[1;33m\u001b[0m\u001b[0m\n\u001b[0;32m      5\u001b[0m     \u001b[0mstd\u001b[0m \u001b[1;33m=\u001b[0m \u001b[0mdata\u001b[0m\u001b[1;33m.\u001b[0m\u001b[0mstd\u001b[0m\u001b[1;33m(\u001b[0m\u001b[0mddof\u001b[0m\u001b[1;33m=\u001b[0m\u001b[1;36m1\u001b[0m\u001b[1;33m)\u001b[0m \u001b[1;31m# using ddof=1 for sample standard deviation\u001b[0m\u001b[1;33m\u001b[0m\u001b[1;33m\u001b[0m\u001b[0m\n",
      "\u001b[1;32m~\\anaconda3\\lib\\site-packages\\pandas\\core\\frame.py\u001b[0m in \u001b[0;36m__getitem__\u001b[1;34m(self, key)\u001b[0m\n\u001b[0;32m   3503\u001b[0m             \u001b[1;32mif\u001b[0m \u001b[0mself\u001b[0m\u001b[1;33m.\u001b[0m\u001b[0mcolumns\u001b[0m\u001b[1;33m.\u001b[0m\u001b[0mnlevels\u001b[0m \u001b[1;33m>\u001b[0m \u001b[1;36m1\u001b[0m\u001b[1;33m:\u001b[0m\u001b[1;33m\u001b[0m\u001b[1;33m\u001b[0m\u001b[0m\n\u001b[0;32m   3504\u001b[0m                 \u001b[1;32mreturn\u001b[0m \u001b[0mself\u001b[0m\u001b[1;33m.\u001b[0m\u001b[0m_getitem_multilevel\u001b[0m\u001b[1;33m(\u001b[0m\u001b[0mkey\u001b[0m\u001b[1;33m)\u001b[0m\u001b[1;33m\u001b[0m\u001b[1;33m\u001b[0m\u001b[0m\n\u001b[1;32m-> 3505\u001b[1;33m             \u001b[0mindexer\u001b[0m \u001b[1;33m=\u001b[0m \u001b[0mself\u001b[0m\u001b[1;33m.\u001b[0m\u001b[0mcolumns\u001b[0m\u001b[1;33m.\u001b[0m\u001b[0mget_loc\u001b[0m\u001b[1;33m(\u001b[0m\u001b[0mkey\u001b[0m\u001b[1;33m)\u001b[0m\u001b[1;33m\u001b[0m\u001b[1;33m\u001b[0m\u001b[0m\n\u001b[0m\u001b[0;32m   3506\u001b[0m             \u001b[1;32mif\u001b[0m \u001b[0mis_integer\u001b[0m\u001b[1;33m(\u001b[0m\u001b[0mindexer\u001b[0m\u001b[1;33m)\u001b[0m\u001b[1;33m:\u001b[0m\u001b[1;33m\u001b[0m\u001b[1;33m\u001b[0m\u001b[0m\n\u001b[0;32m   3507\u001b[0m                 \u001b[0mindexer\u001b[0m \u001b[1;33m=\u001b[0m \u001b[1;33m[\u001b[0m\u001b[0mindexer\u001b[0m\u001b[1;33m]\u001b[0m\u001b[1;33m\u001b[0m\u001b[1;33m\u001b[0m\u001b[0m\n",
      "\u001b[1;32m~\\anaconda3\\lib\\site-packages\\pandas\\core\\indexes\\base.py\u001b[0m in \u001b[0;36mget_loc\u001b[1;34m(self, key, method, tolerance)\u001b[0m\n\u001b[0;32m   3629\u001b[0m                 \u001b[1;32mreturn\u001b[0m \u001b[0mself\u001b[0m\u001b[1;33m.\u001b[0m\u001b[0m_engine\u001b[0m\u001b[1;33m.\u001b[0m\u001b[0mget_loc\u001b[0m\u001b[1;33m(\u001b[0m\u001b[0mcasted_key\u001b[0m\u001b[1;33m)\u001b[0m\u001b[1;33m\u001b[0m\u001b[1;33m\u001b[0m\u001b[0m\n\u001b[0;32m   3630\u001b[0m             \u001b[1;32mexcept\u001b[0m \u001b[0mKeyError\u001b[0m \u001b[1;32mas\u001b[0m \u001b[0merr\u001b[0m\u001b[1;33m:\u001b[0m\u001b[1;33m\u001b[0m\u001b[1;33m\u001b[0m\u001b[0m\n\u001b[1;32m-> 3631\u001b[1;33m                 \u001b[1;32mraise\u001b[0m \u001b[0mKeyError\u001b[0m\u001b[1;33m(\u001b[0m\u001b[0mkey\u001b[0m\u001b[1;33m)\u001b[0m \u001b[1;32mfrom\u001b[0m \u001b[0merr\u001b[0m\u001b[1;33m\u001b[0m\u001b[1;33m\u001b[0m\u001b[0m\n\u001b[0m\u001b[0;32m   3632\u001b[0m             \u001b[1;32mexcept\u001b[0m \u001b[0mTypeError\u001b[0m\u001b[1;33m:\u001b[0m\u001b[1;33m\u001b[0m\u001b[1;33m\u001b[0m\u001b[0m\n\u001b[0;32m   3633\u001b[0m                 \u001b[1;31m# If we have a listlike key, _check_indexing_error will raise\u001b[0m\u001b[1;33m\u001b[0m\u001b[1;33m\u001b[0m\u001b[0m\n",
      "\u001b[1;31mKeyError\u001b[0m: ''"
     ]
    }
   ],
   "source": [
    "def calculate_stats(df, column):\n",
    "    data = df[column].dropna() # remove any missing values\n",
    "    n = len(data)\n",
    "    mean = data.mean()\n",
    "    std = data.std(ddof=1) # using ddof=1 for sample standard deviation\n",
    "    stderr = std / np.sqrt(n)\n",
    "    alpha = 0.05 # 95% confidence interval\n",
    "    t_value = t.ppf(1 - alpha/2, n-1) # t-value for the given sample size and confidence level\n",
    "    ci_lower = mean - t_value * stderr\n",
    "    ci_upper = mean + t_value * stderr\n",
    "    \n",
    "    print(f\"Mean: {mean:.3f}\")\n",
    "    print(f\"Standard deviation: {std:.3f}\")\n",
    "    print(f\"95% Confidence interval: [{ci_lower:.3f}, {ci_upper:.3f}]\")\n",
    "    \n",
    "calculate_stats(df, \"\")"
   ]
  },
  {
   "cell_type": "code",
   "execution_count": null,
   "id": "af3cce3a",
   "metadata": {},
   "outputs": [],
   "source": []
  },
  {
   "cell_type": "code",
   "execution_count": null,
   "id": "3f2cb58f",
   "metadata": {},
   "outputs": [],
   "source": []
  }
 ],
 "metadata": {
  "kernelspec": {
   "display_name": "Python 3 (ipykernel)",
   "language": "python",
   "name": "python3"
  },
  "language_info": {
   "codemirror_mode": {
    "name": "ipython",
    "version": 3
   },
   "file_extension": ".py",
   "mimetype": "text/x-python",
   "name": "python",
   "nbconvert_exporter": "python",
   "pygments_lexer": "ipython3",
   "version": "3.9.13"
  }
 },
 "nbformat": 4,
 "nbformat_minor": 5
}
